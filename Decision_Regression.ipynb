{
 "cells": [
  {
   "cell_type": "code",
   "execution_count": 1,
   "id": "a8c03d14-e67f-4f56-9a06-542ab39bf480",
   "metadata": {},
   "outputs": [
    {
     "name": "stdout",
     "output_type": "stream",
     "text": [
      "Requirement already satisfied: dash in /opt/anaconda3/lib/python3.11/site-packages (2.17.0)\n",
      "Requirement already satisfied: plotly in /opt/anaconda3/lib/python3.11/site-packages (5.9.0)\n",
      "Requirement already satisfied: Flask<3.1,>=1.0.4 in /opt/anaconda3/lib/python3.11/site-packages (from dash) (2.2.5)\n",
      "Requirement already satisfied: Werkzeug<3.1 in /opt/anaconda3/lib/python3.11/site-packages (from dash) (2.2.3)\n",
      "Requirement already satisfied: dash-html-components==2.0.0 in /opt/anaconda3/lib/python3.11/site-packages (from dash) (2.0.0)\n",
      "Requirement already satisfied: dash-core-components==2.0.0 in /opt/anaconda3/lib/python3.11/site-packages (from dash) (2.0.0)\n",
      "Requirement already satisfied: dash-table==5.0.0 in /opt/anaconda3/lib/python3.11/site-packages (from dash) (5.0.0)\n",
      "Requirement already satisfied: importlib-metadata in /opt/anaconda3/lib/python3.11/site-packages (from dash) (7.0.1)\n",
      "Requirement already satisfied: typing-extensions>=4.1.1 in /opt/anaconda3/lib/python3.11/site-packages (from dash) (4.9.0)\n",
      "Requirement already satisfied: requests in /opt/anaconda3/lib/python3.11/site-packages (from dash) (2.31.0)\n",
      "Requirement already satisfied: retrying in /opt/anaconda3/lib/python3.11/site-packages (from dash) (1.3.4)\n",
      "Requirement already satisfied: nest-asyncio in /opt/anaconda3/lib/python3.11/site-packages (from dash) (1.6.0)\n",
      "Requirement already satisfied: setuptools in /opt/anaconda3/lib/python3.11/site-packages (from dash) (68.2.2)\n",
      "Requirement already satisfied: tenacity>=6.2.0 in /opt/anaconda3/lib/python3.11/site-packages (from plotly) (8.2.2)\n",
      "Requirement already satisfied: Jinja2>=3.0 in /opt/anaconda3/lib/python3.11/site-packages (from Flask<3.1,>=1.0.4->dash) (3.1.3)\n",
      "Requirement already satisfied: itsdangerous>=2.0 in /opt/anaconda3/lib/python3.11/site-packages (from Flask<3.1,>=1.0.4->dash) (2.0.1)\n",
      "Requirement already satisfied: click>=8.0 in /opt/anaconda3/lib/python3.11/site-packages (from Flask<3.1,>=1.0.4->dash) (8.1.7)\n",
      "Requirement already satisfied: MarkupSafe>=2.1.1 in /opt/anaconda3/lib/python3.11/site-packages (from Werkzeug<3.1->dash) (2.1.3)\n",
      "Requirement already satisfied: zipp>=0.5 in /opt/anaconda3/lib/python3.11/site-packages (from importlib-metadata->dash) (3.17.0)\n",
      "Requirement already satisfied: charset-normalizer<4,>=2 in /opt/anaconda3/lib/python3.11/site-packages (from requests->dash) (2.0.4)\n",
      "Requirement already satisfied: idna<4,>=2.5 in /opt/anaconda3/lib/python3.11/site-packages (from requests->dash) (3.4)\n",
      "Requirement already satisfied: urllib3<3,>=1.21.1 in /opt/anaconda3/lib/python3.11/site-packages (from requests->dash) (2.0.7)\n",
      "Requirement already satisfied: certifi>=2017.4.17 in /opt/anaconda3/lib/python3.11/site-packages (from requests->dash) (2024.6.2)\n",
      "Requirement already satisfied: six>=1.7.0 in /opt/anaconda3/lib/python3.11/site-packages (from retrying->dash) (1.16.0)\n",
      "Note: you may need to restart the kernel to use updated packages.\n"
     ]
    }
   ],
   "source": [
    "pip install dash plotly"
   ]
  },
  {
   "cell_type": "code",
   "execution_count": 2,
   "id": "3997f47e-597f-4859-85af-0d5fa817a4a2",
   "metadata": {
    "tags": []
   },
   "outputs": [],
   "source": [
    "import os\n",
    "os.getcwd()\n",
    "import pandas as pd\n",
    "import numpy as np\n",
    "import matplotlib.pyplot as plt\n",
    "import seaborn as sns\n",
    "%matplotlib inline"
   ]
  },
  {
   "cell_type": "code",
   "execution_count": 3,
   "id": "ac5770c8-90ad-416f-8a0d-52b99fc07a4a",
   "metadata": {
    "tags": []
   },
   "outputs": [],
   "source": [
    "df = pd.read_csv('Alpha')"
   ]
  },
  {
   "cell_type": "code",
   "execution_count": 6,
   "id": "160b74e1-82b6-4207-aa90-351ff524d513",
   "metadata": {},
   "outputs": [],
   "source": [
    "# Removing outliers of salary"
   ]
  },
  {
   "cell_type": "code",
   "execution_count": 8,
   "id": "f4d42f91-f5a0-4969-b68c-f95cdbf4d8e0",
   "metadata": {},
   "outputs": [],
   "source": [
    "df= df[df['medium_salary'] <= 83000]"
   ]
  },
  {
   "cell_type": "code",
   "execution_count": 14,
   "id": "80e6e3b8-59dc-4753-9499-019105544f3b",
   "metadata": {
    "tags": []
   },
   "outputs": [],
   "source": [
    "# saving the dataframe\n",
    "df.to_csv('my_data.csv')"
   ]
  },
  {
   "cell_type": "code",
   "execution_count": 16,
   "id": "807b1f49-ce32-496a-ba31-326f720895ba",
   "metadata": {
    "tags": []
   },
   "outputs": [],
   "source": [
    "df.drop(columns=['Unnamed: 0'], inplace=True)"
   ]
  },
  {
   "cell_type": "code",
   "execution_count": 18,
   "id": "3d961f6c-7795-4496-bede-7daa71fdb5f3",
   "metadata": {
    "tags": []
   },
   "outputs": [
    {
     "name": "stdout",
     "output_type": "stream",
     "text": [
      "<class 'pandas.core.frame.DataFrame'>\n",
      "Index: 22715 entries, 0 to 22722\n",
      "Data columns (total 15 columns):\n",
      " #   Column                      Non-Null Count  Dtype  \n",
      "---  ------                      --------------  -----  \n",
      " 0   job_id                      22715 non-null  int64  \n",
      " 1   location                    22715 non-null  object \n",
      " 2   company_id                  22715 non-null  float64\n",
      " 3   formatted_experience_level  22715 non-null  object \n",
      " 4   maximum_salary              19322 non-null  float64\n",
      " 5   medium_salary               22715 non-null  int64  \n",
      " 6   minimum_salary              19322 non-null  float64\n",
      " 7   employee_count              22715 non-null  float64\n",
      " 8   state                       22712 non-null  object \n",
      " 9   city                        22715 non-null  object \n",
      " 10  industry_id                 22715 non-null  float64\n",
      " 11  group_industry              22715 non-null  object \n",
      " 12  job_title                   22715 non-null  object \n",
      " 13  category                    22715 non-null  object \n",
      " 14  description                 22715 non-null  object \n",
      "dtypes: float64(5), int64(2), object(8)\n",
      "memory usage: 2.8+ MB\n"
     ]
    }
   ],
   "source": [
    "df.info()"
   ]
  },
  {
   "cell_type": "code",
   "execution_count": 20,
   "id": "34af1cd9-7267-4ae8-9fe6-8a4694e21063",
   "metadata": {
    "tags": []
   },
   "outputs": [
    {
     "data": {
      "text/plain": [
       "job_id                        22715\n",
       "location                       3409\n",
       "company_id                     6358\n",
       "formatted_experience_level        6\n",
       "maximum_salary                 3685\n",
       "medium_salary                  4356\n",
       "minimum_salary                 3227\n",
       "employee_count                 2861\n",
       "state                           322\n",
       "city                           1511\n",
       "industry_id                     276\n",
       "group_industry                   46\n",
       "job_title                     15380\n",
       "category                         39\n",
       "description                   21457\n",
       "dtype: int64"
      ]
     },
     "execution_count": 20,
     "metadata": {},
     "output_type": "execute_result"
    }
   ],
   "source": [
    "df.nunique()"
   ]
  },
  {
   "cell_type": "code",
   "execution_count": 22,
   "id": "8b70a152-ab87-413f-b9db-b9bb48af3786",
   "metadata": {},
   "outputs": [],
   "source": [
    "# creating dataframe for decision tree regression"
   ]
  },
  {
   "cell_type": "code",
   "execution_count": 24,
   "id": "bb08796c-eb85-4cdb-9861-b0d03be322bc",
   "metadata": {
    "tags": []
   },
   "outputs": [],
   "source": [
    "cols_to_drop = ['job_id', 'company_id', 'maximum_salary', 'minimum_salary',\n",
    "                'state', 'city', 'industry_id', 'job_title', 'description',\n",
    "                'location', 'employee_count',]"
   ]
  },
  {
   "cell_type": "code",
   "execution_count": 26,
   "id": "e84675f7-daf9-4d67-869f-336d78da83d3",
   "metadata": {
    "tags": []
   },
   "outputs": [],
   "source": [
    "df = df.drop(columns=cols_to_drop)"
   ]
  },
  {
   "cell_type": "code",
   "execution_count": 28,
   "id": "1faca24f-eaf0-4a5e-8a54-366866be2be8",
   "metadata": {
    "tags": []
   },
   "outputs": [
    {
     "name": "stdout",
     "output_type": "stream",
     "text": [
      "<class 'pandas.core.frame.DataFrame'>\n",
      "Index: 22715 entries, 0 to 22722\n",
      "Data columns (total 4 columns):\n",
      " #   Column                      Non-Null Count  Dtype \n",
      "---  ------                      --------------  ----- \n",
      " 0   formatted_experience_level  22715 non-null  object\n",
      " 1   medium_salary               22715 non-null  int64 \n",
      " 2   group_industry              22715 non-null  object\n",
      " 3   category                    22715 non-null  object\n",
      "dtypes: int64(1), object(3)\n",
      "memory usage: 887.3+ KB\n"
     ]
    }
   ],
   "source": [
    "df.info()"
   ]
  },
  {
   "cell_type": "code",
   "execution_count": 30,
   "id": "7f1854e0-7469-4420-8a2d-db41a79278f2",
   "metadata": {},
   "outputs": [],
   "source": [
    "# Ranking the experience level so it makes it easier to for the regression to work instead or random assignment"
   ]
  },
  {
   "cell_type": "code",
   "execution_count": 32,
   "id": "581ba383-cf8f-4c91-8b4d-700b70bbc774",
   "metadata": {
    "tags": []
   },
   "outputs": [
    {
     "name": "stdout",
     "output_type": "stream",
     "text": [
      "0    4\n",
      "1    3\n",
      "2    2\n",
      "3    3\n",
      "4    4\n",
      "Name: formatted_experience_level, dtype: int64\n"
     ]
    }
   ],
   "source": [
    "# Define the mapping\n",
    "experience_level_mapping = {\n",
    "    'Internship': 1,\n",
    "    'Entry level': 2,\n",
    "    'Associate': 3,\n",
    "    'Mid-Senior level': 4,\n",
    "    'Director': 5,\n",
    "    'Executive': 6\n",
    "}\n",
    "\n",
    "# Apply the mapping\n",
    "df['formatted_experience_level'] = df['formatted_experience_level'].map(experience_level_mapping)\n",
    "\n",
    "# Verify the changes\n",
    "print(df['formatted_experience_level'].head())"
   ]
  },
  {
   "cell_type": "code",
   "execution_count": 34,
   "id": "d17e2210-9ee7-4a89-8142-80a4b9a03b8c",
   "metadata": {
    "tags": []
   },
   "outputs": [],
   "source": [
    "#Changing them into dummy variables\n",
    "df_dummies = pd.get_dummies(df, drop_first=True)"
   ]
  },
  {
   "cell_type": "code",
   "execution_count": 36,
   "id": "f57eb77c-c9d8-48f4-bf86-3196dd5a7234",
   "metadata": {
    "tags": []
   },
   "outputs": [
    {
     "name": "stdout",
     "output_type": "stream",
     "text": [
      "<class 'pandas.core.frame.DataFrame'>\n",
      "Index: 22715 entries, 0 to 22722\n",
      "Data columns (total 85 columns):\n",
      " #   Column                                                              Non-Null Count  Dtype\n",
      "---  ------                                                              --------------  -----\n",
      " 0   formatted_experience_level                                          22715 non-null  int64\n",
      " 1   medium_salary                                                       22715 non-null  int64\n",
      " 2   group_industry_Administrative and Support Services                  22715 non-null  bool \n",
      " 3   group_industry_Apparel & Fashion                                    22715 non-null  bool \n",
      " 4   group_industry_Automotive                                           22715 non-null  bool \n",
      " 5   group_industry_Aviation & Aerospace                                 22715 non-null  bool \n",
      " 6   group_industry_Biotechnology                                        22715 non-null  bool \n",
      " 7   group_industry_Building Materials                                   22715 non-null  bool \n",
      " 8   group_industry_Commercial Real Estate                               22715 non-null  bool \n",
      " 9   group_industry_Computer Networking                                  22715 non-null  bool \n",
      " 10  group_industry_Construction                                         22715 non-null  bool \n",
      " 11  group_industry_Consumer Goods                                       22715 non-null  bool \n",
      " 12  group_industry_Consumer Services                                    22715 non-null  bool \n",
      " 13  group_industry_Defense & Space                                      22715 non-null  bool \n",
      " 14  group_industry_Education                                            22715 non-null  bool \n",
      " 15  group_industry_Education Management                                 22715 non-null  bool \n",
      " 16  group_industry_Entertainment                                        22715 non-null  bool \n",
      " 17  group_industry_Entertainment Providers                              22715 non-null  bool \n",
      " 18  group_industry_Farming, Ranching, Forestry                          22715 non-null  bool \n",
      " 19  group_industry_Financial Services                                   22715 non-null  bool \n",
      " 20  group_industry_Food & Beverages                                     22715 non-null  bool \n",
      " 21  group_industry_Food Production                                      22715 non-null  bool \n",
      " 22  group_industry_Furniture                                            22715 non-null  bool \n",
      " 23  group_industry_Government Administration                            22715 non-null  bool \n",
      " 24  group_industry_Health, Wellness & Fitness                           22715 non-null  bool \n",
      " 25  group_industry_Holding Companies                                    22715 non-null  bool \n",
      " 26  group_industry_Hospitals and Health Care                            22715 non-null  bool \n",
      " 27  group_industry_Human Resources                                      22715 non-null  bool \n",
      " 28  group_industry_Information Technology & Services                    22715 non-null  bool \n",
      " 29  group_industry_Luxury Goods & Jewelry                               22715 non-null  bool \n",
      " 30  group_industry_Manufacturing                                        22715 non-null  bool \n",
      " 31  group_industry_Mechanical Or Industrial Engineering                 22715 non-null  bool \n",
      " 32  group_industry_Medical Device                                       22715 non-null  bool \n",
      " 33  group_industry_Non-profit Organization Management                   22715 non-null  bool \n",
      " 34  group_industry_Oil, Gas, and Mining                                 22715 non-null  bool \n",
      " 35  group_industry_Professional Services                                22715 non-null  bool \n",
      " 36  group_industry_Real Estate and Equipment Rental Services            22715 non-null  bool \n",
      " 37  group_industry_Renewables & Environment                             22715 non-null  bool \n",
      " 38  group_industry_Research                                             22715 non-null  bool \n",
      " 39  group_industry_Retail                                               22715 non-null  bool \n",
      " 40  group_industry_Semiconductors                                       22715 non-null  bool \n",
      " 41  group_industry_Technology, Information and Media                    22715 non-null  bool \n",
      " 42  group_industry_Transportation, Logistics, Supply Chain and Storage  22715 non-null  bool \n",
      " 43  group_industry_Transportation/Trucking/Railroad                     22715 non-null  bool \n",
      " 44  group_industry_Utilities                                            22715 non-null  bool \n",
      " 45  group_industry_Warehousing                                          22715 non-null  bool \n",
      " 46  group_industry_Wholesale                                            22715 non-null  bool \n",
      " 47  category_Analysis                                                   22715 non-null  bool \n",
      " 48  category_Arts and Design                                            22715 non-null  bool \n",
      " 49  category_Automotive                                                 22715 non-null  bool \n",
      " 50  category_Aviation and Aerospace                                     22715 non-null  bool \n",
      " 51  category_Banking                                                    22715 non-null  bool \n",
      " 52  category_Biotechnology                                              22715 non-null  bool \n",
      " 53  category_Construction                                               22715 non-null  bool \n",
      " 54  category_Consulting                                                 22715 non-null  bool \n",
      " 55  category_Customer Service                                           22715 non-null  bool \n",
      " 56  category_Education                                                  22715 non-null  bool \n",
      " 57  category_Energy and Utilities                                       22715 non-null  bool \n",
      " 58  category_Engineering                                                22715 non-null  bool \n",
      " 59  category_Entertainment                                              22715 non-null  bool \n",
      " 60  category_Finance                                                    22715 non-null  bool \n",
      " 61  category_Fitness                                                    22715 non-null  bool \n",
      " 62  category_Food and Beverages                                         22715 non-null  bool \n",
      " 63  category_Healthcare                                                 22715 non-null  bool \n",
      " 64  category_Hospitality                                                22715 non-null  bool \n",
      " 65  category_Human Resources                                            22715 non-null  bool \n",
      " 66  category_Human Services                                             22715 non-null  bool \n",
      " 67  category_Information Technology                                     22715 non-null  bool \n",
      " 68  category_Insurance                                                  22715 non-null  bool \n",
      " 69  category_Legal                                                      22715 non-null  bool \n",
      " 70  category_Management                                                 22715 non-null  bool \n",
      " 71  category_Manufacturing                                              22715 non-null  bool \n",
      " 72  category_Marketing                                                  22715 non-null  bool \n",
      " 73  category_Operations                                                 22715 non-null  bool \n",
      " 74  category_Real Estate                                                22715 non-null  bool \n",
      " 75  category_Research                                                   22715 non-null  bool \n",
      " 76  category_Retail                                                     22715 non-null  bool \n",
      " 77  category_Sales                                                      22715 non-null  bool \n",
      " 78  category_Supply Chain                                               22715 non-null  bool \n",
      " 79  category_Support                                                    22715 non-null  bool \n",
      " 80  category_Training and Development                                   22715 non-null  bool \n",
      " 81  category_Transportation                                             22715 non-null  bool \n",
      " 82  category_Veterinary                                                 22715 non-null  bool \n",
      " 83  category_Warehousing                                                22715 non-null  bool \n",
      " 84  category_Writing and Editing                                        22715 non-null  bool \n",
      "dtypes: bool(83), int64(2)\n",
      "memory usage: 2.3 MB\n"
     ]
    }
   ],
   "source": [
    "df_dummies.info()"
   ]
  },
  {
   "cell_type": "code",
   "execution_count": 38,
   "id": "abed6758-0a15-4054-a662-b4b06cab279e",
   "metadata": {
    "tags": []
   },
   "outputs": [],
   "source": [
    "X = df_dummies.drop(columns='medium_salary')\n",
    "y = df_dummies['medium_salary']"
   ]
  },
  {
   "cell_type": "code",
   "execution_count": 40,
   "id": "372217ce-f03a-4bf9-ab93-e84ad891224b",
   "metadata": {
    "tags": []
   },
   "outputs": [
    {
     "name": "stdout",
     "output_type": "stream",
     "text": [
      "Mean Squared Error: 13760992.476827439\n",
      "R^2 Score: 0.3916856962902746\n"
     ]
    }
   ],
   "source": [
    "import pandas as pd\n",
    "from sklearn.tree import DecisionTreeRegressor\n",
    "from sklearn.model_selection import train_test_split\n",
    "from sklearn.metrics import mean_squared_error, r2_score\n",
    "import joblib\n",
    "\n",
    "# Split the data into training and testing sets\n",
    "X_train, X_test, y_train, y_test = train_test_split(X, y, test_size=0.2, random_state=1000)\n",
    "\n",
    "# Create a Decision Tree Regressor object\n",
    "regressor = DecisionTreeRegressor(random_state=42)\n",
    "\n",
    "# Train the model\n",
    "regressor.fit(X_train, y_train)\n",
    "\n",
    "# Save the fitted model\n",
    "joblib.dump(regressor, 'decision_tree_regressor.pkl')\n",
    "\n",
    "# Predict on the test data\n",
    "y_pred = regressor.predict(X_test)\n",
    "\n",
    "# Evaluate the model\n",
    "mse = mean_squared_error(y_test, y_pred)\n",
    "r2 = r2_score(y_test, y_pred)\n",
    "\n",
    "print(\"Mean Squared Error:\", mse)\n",
    "print(\"R^2 Score:\", r2)"
   ]
  },
  {
   "cell_type": "raw",
   "id": "25907643-84d2-4f40-954f-634a180cd384",
   "metadata": {
    "tags": []
   },
   "source": [
    "import dash\n",
    "from dash import dcc, html\n",
    "from dash.dependencies import Input, Output\n",
    "import plotly.express as px\n",
    "import joblib\n",
    "import pandas as pd\n",
    "\n",
    "# Load the trained model\n",
    "model = joblib.load('decision_tree_regressor.pkl')\n",
    "\n",
    "# Initialize the Dash app\n",
    "app = dash.Dash(__name__)\n",
    "\n",
    "# Define the layout\n",
    "app.layout = html.Div([\n",
    "    html.H1(\"Salary Prediction Dashboard\"),\n",
    "    html.Div([\n",
    "        html.Label(\"Experience Level\"),\n",
    "        dcc.Dropdown(\n",
    "            id='formatted_experience_level_dropdown',\n",
    "            options=[{'label': level, 'value': level} for level in df['formatted_experience_level'].unique()],\n",
    "            placeholder='Select Experience Level'\n",
    "        ),\n",
    "        html.Label(\"Industry Group\"),\n",
    "        dcc.Dropdown(\n",
    "            id='group_industry_dropdown',\n",
    "            options=[{'label': industry, 'value': industry} for industry in df['group_industry'].unique()],\n",
    "            placeholder='Select Industry',\n",
    "        ),\n",
    "        html.Label(\"Category\"),\n",
    "        dcc.Dropdown(\n",
    "            id='category_dropdown',\n",
    "            options=[{'label': category, 'value': category} for category in df['category'].unique()],\n",
    "            placeholder='Select Category',\n",
    "        ),\n",
    "        html.Button('Predict Salary', id='predict_button', n_clicks=0),\n",
    "        html.Div(id='output_salary')\n",
    "    ], style={'width': '50%', 'display': 'inline-block'}),\n",
    "    dcc.Graph(id='salary_graph')\n",
    "])\n",
    "\n",
    "# Define the callback for prediction\n",
    "@app.callback(\n",
    "    Output('output_salary', 'children'),\n",
    "    [Input('predict_button', 'n_clicks')],\n",
    "    [dash.dependencies.State('formatted_experience_level_dropdown', 'value'),\n",
    "     dash.dependencies.State('group_industry_dropdown', 'value'),\n",
    "     dash.dependencies.State('category_dropdown', 'value')]\n",
    ")\n",
    "def update_output(n_clicks, experience_level, industry, category):\n",
    "    if n_clicks > 0 and experience_level and industry and category:\n",
    "        # Create a new DataFrame with the selected values\n",
    "        input_data = pd.DataFrame([[experience_level]], columns=['formatted_experience_level'])\n",
    "        input_data = pd.concat([input_data, pd.get_dummies(pd.DataFrame([[industry]], columns=['group_industry']), drop_first=True)], axis=1)\n",
    "        input_data = pd.concat([input_data, pd.get_dummies(pd.DataFrame([[category]], columns=['category']), drop_first=True)], axis=1)\n",
    "\n",
    "        # Align the columns of the input data with the training data\n",
    "        input_data = input_data.reindex(columns=X.columns, fill_value=0)\n",
    "\n",
    "        # Predict the salary using the loaded model\n",
    "        predicted_salary = model.predict(input_data)[0]\n",
    "\n",
    "        return f\"Predicted Medium Salary: ${predicted_salary:.2f}\"\n",
    "    return \"\"\n",
    "\n",
    "# Run the app\n",
    "if __name__ == '__main__':\n",
    "    app.run_server(debug=True, port=8060)\n"
   ]
  },
  {
   "cell_type": "code",
   "execution_count": 42,
   "id": "774e4b57-794e-4a3f-84d5-cae53efe761f",
   "metadata": {
    "tags": []
   },
   "outputs": [],
   "source": [
    "import dash\n",
    "from dash import dcc, html\n",
    "from dash.dependencies import Input, Output\n",
    "import pandas as pd\n",
    "import joblib\n",
    "\n",
    "# Load the trained model\n",
    "model = joblib.load('decision_tree_regressor.pkl')\n",
    "\n",
    "# Initialize the Dash app\n",
    "app = dash.Dash(__name__)\n",
    "\n",
    "# Define the layout\n",
    "app.layout = html.Div([\n",
    "    html.H1(\"Salary Prediction Dashboard\"),\n",
    "    html.Div([\n",
    "        html.Label(\"Experience Level\"),\n",
    "        dcc.Dropdown(\n",
    "            id='formatted_experience_level_dropdown',\n",
    "            options=[{'label': level, 'value': level} for level in df['formatted_experience_level'].unique()],\n",
    "            placeholder='Select Experience Level'\n",
    "        ),\n",
    "        html.Label(\"Industry Group\"),\n",
    "        dcc.Dropdown(\n",
    "            id='group_industry_dropdown',\n",
    "            placeholder='Select Industry',\n",
    "        ),\n",
    "        html.Label(\"Category\"),\n",
    "        dcc.Dropdown(\n",
    "            id='category_dropdown',\n",
    "            placeholder='Select Category',\n",
    "        ),\n",
    "        html.Button('Predict Salary', id='predict_button', n_clicks=0),\n",
    "        html.Div(id='output_salary')\n",
    "    ], style={'width': '50%', 'display': 'inline-block'}),\n",
    "    dcc.Graph(id='salary_graph')\n",
    "])\n"
   ]
  },
  {
   "cell_type": "code",
   "execution_count": 44,
   "id": "04f5642a-64ce-45ee-9501-64da7544676f",
   "metadata": {
    "tags": []
   },
   "outputs": [
    {
     "data": {
      "text/html": [
       "\n",
       "        <iframe\n",
       "            width=\"100%\"\n",
       "            height=\"650\"\n",
       "            src=\"http://127.0.0.1:8060/\"\n",
       "            frameborder=\"0\"\n",
       "            allowfullscreen\n",
       "            \n",
       "        ></iframe>\n",
       "        "
      ],
      "text/plain": [
       "<IPython.lib.display.IFrame at 0x297448290>"
      ]
     },
     "metadata": {},
     "output_type": "display_data"
    }
   ],
   "source": [
    "@app.callback(\n",
    "    Output('group_industry_dropdown', 'options'),\n",
    "    [Input('formatted_experience_level_dropdown', 'value')]\n",
    ")\n",
    "def set_industry_options(selected_experience_level):\n",
    "    if not selected_experience_level:\n",
    "        return []\n",
    "    filtered_df = df[df['formatted_experience_level'] == selected_experience_level]\n",
    "    industries = filtered_df['group_industry'].unique()\n",
    "    return [{'label': industry, 'value': industry} for industry in industries]\n",
    "\n",
    "@app.callback(\n",
    "    Output('category_dropdown', 'options'),\n",
    "    [Input('group_industry_dropdown', 'value'),\n",
    "     Input('formatted_experience_level_dropdown', 'value')]\n",
    ")\n",
    "def set_category_options(selected_industry, selected_experience_level):\n",
    "    if not selected_experience_level or not selected_industry:\n",
    "        return []\n",
    "    filtered_df = df[(df['formatted_experience_level'] == selected_experience_level) & \n",
    "                     (df['group_industry'] == selected_industry)]\n",
    "    categories = filtered_df['category'].unique()\n",
    "    return [{'label': category, 'value': category} for category in categories]\n",
    "\n",
    "@app.callback(\n",
    "    Output('output_salary', 'children'),\n",
    "    [Input('predict_button', 'n_clicks')],\n",
    "    [dash.dependencies.State('formatted_experience_level_dropdown', 'value'),\n",
    "     dash.dependencies.State('group_industry_dropdown', 'value'),\n",
    "     dash.dependencies.State('category_dropdown', 'value')]\n",
    ")\n",
    "def update_output(n_clicks, experience_level, industry, category):\n",
    "    if n_clicks > 0 and experience_level and industry and category:\n",
    "        # Create a new DataFrame with the selected values\n",
    "        input_data = pd.DataFrame([[experience_level]], columns=['formatted_experience_level'])\n",
    "        input_data = pd.concat([input_data, pd.get_dummies(pd.DataFrame([[industry]], columns=['group_industry']), drop_first=True)], axis=1)\n",
    "        input_data = pd.concat([input_data, pd.get_dummies(pd.DataFrame([[category]], columns=['category']), drop_first=True)], axis=1)\n",
    "\n",
    "        # Align the columns of the input data with the training data\n",
    "        input_data = input_data.reindex(columns=X.columns, fill_value=0)\n",
    "\n",
    "        # Predict the salary using the loaded model\n",
    "        predicted_salary = model.predict(input_data)[0]\n",
    "\n",
    "        return f\"Predicted Monthly Salary: ${predicted_salary:.2f}\"\n",
    "    return \"\"\n",
    "\n",
    "# Run the app\n",
    "if __name__ == '__main__':\n",
    "    app.run_server(debug=True, port=8060)\n"
   ]
  },
  {
   "cell_type": "code",
   "execution_count": null,
   "id": "913a00f9-4217-476c-8e2b-6090d812cc92",
   "metadata": {},
   "outputs": [],
   "source": []
  }
 ],
 "metadata": {
  "kernelspec": {
   "display_name": "Python 3 (ipykernel)",
   "language": "python",
   "name": "python3"
  },
  "language_info": {
   "codemirror_mode": {
    "name": "ipython",
    "version": 3
   },
   "file_extension": ".py",
   "mimetype": "text/x-python",
   "name": "python",
   "nbconvert_exporter": "python",
   "pygments_lexer": "ipython3",
   "version": "3.11.7"
  }
 },
 "nbformat": 4,
 "nbformat_minor": 5
}
